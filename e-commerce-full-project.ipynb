{
 "cells": [
  {
   "cell_type": "code",
   "execution_count": 1,
   "id": "f4d5d014",
   "metadata": {
    "_cell_guid": "b1076dfc-b9ad-4769-8c92-a6c4dae69d19",
    "_uuid": "8f2839f25d086af736a60e9eeb907d3b93b6e0e5",
    "execution": {
     "iopub.execute_input": "2024-12-30T19:54:04.921177Z",
     "iopub.status.busy": "2024-12-30T19:54:04.920788Z",
     "iopub.status.idle": "2024-12-30T19:54:06.681610Z",
     "shell.execute_reply": "2024-12-30T19:54:06.680298Z"
    },
    "papermill": {
     "duration": 1.773405,
     "end_time": "2024-12-30T19:54:06.683755",
     "exception": false,
     "start_time": "2024-12-30T19:54:04.910350",
     "status": "completed"
    },
    "tags": []
   },
   "outputs": [],
   "source": [
    "import pandas as pd\n",
    "import plotly.express as px\n",
    "import plotly.graph_objects as go\n",
    "import plotly.io as pio\n",
    "import plotly.colors as colors\n",
    "pio.templates.default=\"plotly_white\""
   ]
  },
  {
   "cell_type": "code",
   "execution_count": 2,
   "id": "b4677b7b",
   "metadata": {
    "execution": {
     "iopub.execute_input": "2024-12-30T19:54:06.702704Z",
     "iopub.status.busy": "2024-12-30T19:54:06.702086Z",
     "iopub.status.idle": "2024-12-30T19:54:06.839873Z",
     "shell.execute_reply": "2024-12-30T19:54:06.838434Z"
    },
    "papermill": {
     "duration": 0.148919,
     "end_time": "2024-12-30T19:54:06.841889",
     "exception": false,
     "start_time": "2024-12-30T19:54:06.692970",
     "status": "completed"
    },
    "tags": []
   },
   "outputs": [
    {
     "data": {
      "text/html": [
       "<div>\n",
       "<style scoped>\n",
       "    .dataframe tbody tr th:only-of-type {\n",
       "        vertical-align: middle;\n",
       "    }\n",
       "\n",
       "    .dataframe tbody tr th {\n",
       "        vertical-align: top;\n",
       "    }\n",
       "\n",
       "    .dataframe thead th {\n",
       "        text-align: right;\n",
       "    }\n",
       "</style>\n",
       "<table border=\"1\" class=\"dataframe\">\n",
       "  <thead>\n",
       "    <tr style=\"text-align: right;\">\n",
       "      <th></th>\n",
       "      <th>Row ID</th>\n",
       "      <th>Order ID</th>\n",
       "      <th>Order Date</th>\n",
       "      <th>Ship Date</th>\n",
       "      <th>Ship Mode</th>\n",
       "      <th>Customer ID</th>\n",
       "      <th>Customer Name</th>\n",
       "      <th>Segment</th>\n",
       "      <th>Country</th>\n",
       "      <th>City</th>\n",
       "      <th>...</th>\n",
       "      <th>Postal Code</th>\n",
       "      <th>Region</th>\n",
       "      <th>Product ID</th>\n",
       "      <th>Category</th>\n",
       "      <th>Sub-Category</th>\n",
       "      <th>Product Name</th>\n",
       "      <th>Sales</th>\n",
       "      <th>Quantity</th>\n",
       "      <th>Discount</th>\n",
       "      <th>Profit</th>\n",
       "    </tr>\n",
       "  </thead>\n",
       "  <tbody>\n",
       "    <tr>\n",
       "      <th>0</th>\n",
       "      <td>1</td>\n",
       "      <td>CA-2016-152156</td>\n",
       "      <td>11/8/2016</td>\n",
       "      <td>11/11/2016</td>\n",
       "      <td>Second Class</td>\n",
       "      <td>CG-12520</td>\n",
       "      <td>Claire Gute</td>\n",
       "      <td>Consumer</td>\n",
       "      <td>United States</td>\n",
       "      <td>Henderson</td>\n",
       "      <td>...</td>\n",
       "      <td>42420</td>\n",
       "      <td>South</td>\n",
       "      <td>FUR-BO-10001798</td>\n",
       "      <td>Furniture</td>\n",
       "      <td>Bookcases</td>\n",
       "      <td>Bush Somerset Collection Bookcase</td>\n",
       "      <td>261.9600</td>\n",
       "      <td>2</td>\n",
       "      <td>0.00</td>\n",
       "      <td>41.9136</td>\n",
       "    </tr>\n",
       "    <tr>\n",
       "      <th>1</th>\n",
       "      <td>2</td>\n",
       "      <td>CA-2016-152156</td>\n",
       "      <td>11/8/2016</td>\n",
       "      <td>11/11/2016</td>\n",
       "      <td>Second Class</td>\n",
       "      <td>CG-12520</td>\n",
       "      <td>Claire Gute</td>\n",
       "      <td>Consumer</td>\n",
       "      <td>United States</td>\n",
       "      <td>Henderson</td>\n",
       "      <td>...</td>\n",
       "      <td>42420</td>\n",
       "      <td>South</td>\n",
       "      <td>FUR-CH-10000454</td>\n",
       "      <td>Furniture</td>\n",
       "      <td>Chairs</td>\n",
       "      <td>Hon Deluxe Fabric Upholstered Stacking Chairs,...</td>\n",
       "      <td>731.9400</td>\n",
       "      <td>3</td>\n",
       "      <td>0.00</td>\n",
       "      <td>219.5820</td>\n",
       "    </tr>\n",
       "    <tr>\n",
       "      <th>2</th>\n",
       "      <td>3</td>\n",
       "      <td>CA-2016-138688</td>\n",
       "      <td>6/12/2016</td>\n",
       "      <td>6/16/2016</td>\n",
       "      <td>Second Class</td>\n",
       "      <td>DV-13045</td>\n",
       "      <td>Darrin Van Huff</td>\n",
       "      <td>Corporate</td>\n",
       "      <td>United States</td>\n",
       "      <td>Los Angeles</td>\n",
       "      <td>...</td>\n",
       "      <td>90036</td>\n",
       "      <td>West</td>\n",
       "      <td>OFF-LA-10000240</td>\n",
       "      <td>Office Supplies</td>\n",
       "      <td>Labels</td>\n",
       "      <td>Self-Adhesive Address Labels for Typewriters b...</td>\n",
       "      <td>14.6200</td>\n",
       "      <td>2</td>\n",
       "      <td>0.00</td>\n",
       "      <td>6.8714</td>\n",
       "    </tr>\n",
       "    <tr>\n",
       "      <th>3</th>\n",
       "      <td>4</td>\n",
       "      <td>US-2015-108966</td>\n",
       "      <td>10/11/2015</td>\n",
       "      <td>10/18/2015</td>\n",
       "      <td>Standard Class</td>\n",
       "      <td>SO-20335</td>\n",
       "      <td>Sean O'Donnell</td>\n",
       "      <td>Consumer</td>\n",
       "      <td>United States</td>\n",
       "      <td>Fort Lauderdale</td>\n",
       "      <td>...</td>\n",
       "      <td>33311</td>\n",
       "      <td>South</td>\n",
       "      <td>FUR-TA-10000577</td>\n",
       "      <td>Furniture</td>\n",
       "      <td>Tables</td>\n",
       "      <td>Bretford CR4500 Series Slim Rectangular Table</td>\n",
       "      <td>957.5775</td>\n",
       "      <td>5</td>\n",
       "      <td>0.45</td>\n",
       "      <td>-383.0310</td>\n",
       "    </tr>\n",
       "    <tr>\n",
       "      <th>4</th>\n",
       "      <td>5</td>\n",
       "      <td>US-2015-108966</td>\n",
       "      <td>10/11/2015</td>\n",
       "      <td>10/18/2015</td>\n",
       "      <td>Standard Class</td>\n",
       "      <td>SO-20335</td>\n",
       "      <td>Sean O'Donnell</td>\n",
       "      <td>Consumer</td>\n",
       "      <td>United States</td>\n",
       "      <td>Fort Lauderdale</td>\n",
       "      <td>...</td>\n",
       "      <td>33311</td>\n",
       "      <td>South</td>\n",
       "      <td>OFF-ST-10000760</td>\n",
       "      <td>Office Supplies</td>\n",
       "      <td>Storage</td>\n",
       "      <td>Eldon Fold 'N Roll Cart System</td>\n",
       "      <td>22.3680</td>\n",
       "      <td>2</td>\n",
       "      <td>0.20</td>\n",
       "      <td>2.5164</td>\n",
       "    </tr>\n",
       "  </tbody>\n",
       "</table>\n",
       "<p>5 rows × 21 columns</p>\n",
       "</div>"
      ],
      "text/plain": [
       "   Row ID        Order ID  Order Date   Ship Date       Ship Mode Customer ID  \\\n",
       "0       1  CA-2016-152156   11/8/2016  11/11/2016    Second Class    CG-12520   \n",
       "1       2  CA-2016-152156   11/8/2016  11/11/2016    Second Class    CG-12520   \n",
       "2       3  CA-2016-138688   6/12/2016   6/16/2016    Second Class    DV-13045   \n",
       "3       4  US-2015-108966  10/11/2015  10/18/2015  Standard Class    SO-20335   \n",
       "4       5  US-2015-108966  10/11/2015  10/18/2015  Standard Class    SO-20335   \n",
       "\n",
       "     Customer Name    Segment        Country             City  ...  \\\n",
       "0      Claire Gute   Consumer  United States        Henderson  ...   \n",
       "1      Claire Gute   Consumer  United States        Henderson  ...   \n",
       "2  Darrin Van Huff  Corporate  United States      Los Angeles  ...   \n",
       "3   Sean O'Donnell   Consumer  United States  Fort Lauderdale  ...   \n",
       "4   Sean O'Donnell   Consumer  United States  Fort Lauderdale  ...   \n",
       "\n",
       "  Postal Code  Region       Product ID         Category Sub-Category  \\\n",
       "0       42420   South  FUR-BO-10001798        Furniture    Bookcases   \n",
       "1       42420   South  FUR-CH-10000454        Furniture       Chairs   \n",
       "2       90036    West  OFF-LA-10000240  Office Supplies       Labels   \n",
       "3       33311   South  FUR-TA-10000577        Furniture       Tables   \n",
       "4       33311   South  OFF-ST-10000760  Office Supplies      Storage   \n",
       "\n",
       "                                        Product Name     Sales  Quantity  \\\n",
       "0                  Bush Somerset Collection Bookcase  261.9600         2   \n",
       "1  Hon Deluxe Fabric Upholstered Stacking Chairs,...  731.9400         3   \n",
       "2  Self-Adhesive Address Labels for Typewriters b...   14.6200         2   \n",
       "3      Bretford CR4500 Series Slim Rectangular Table  957.5775         5   \n",
       "4                     Eldon Fold 'N Roll Cart System   22.3680         2   \n",
       "\n",
       "   Discount    Profit  \n",
       "0      0.00   41.9136  \n",
       "1      0.00  219.5820  \n",
       "2      0.00    6.8714  \n",
       "3      0.45 -383.0310  \n",
       "4      0.20    2.5164  \n",
       "\n",
       "[5 rows x 21 columns]"
      ]
     },
     "execution_count": 2,
     "metadata": {},
     "output_type": "execute_result"
    }
   ],
   "source": [
    "df = pd.read_csv(\"/kaggle/input/e-commerce/Sample - Superstore.csv\",encoding = \"latin-1\")\n",
    "df.head()"
   ]
  },
  {
   "cell_type": "code",
   "execution_count": 3,
   "id": "cb8f5faf",
   "metadata": {
    "execution": {
     "iopub.execute_input": "2024-12-30T19:54:06.860836Z",
     "iopub.status.busy": "2024-12-30T19:54:06.860437Z",
     "iopub.status.idle": "2024-12-30T19:54:06.892176Z",
     "shell.execute_reply": "2024-12-30T19:54:06.891054Z"
    },
    "papermill": {
     "duration": 0.043124,
     "end_time": "2024-12-30T19:54:06.893748",
     "exception": false,
     "start_time": "2024-12-30T19:54:06.850624",
     "status": "completed"
    },
    "tags": []
   },
   "outputs": [
    {
     "data": {
      "text/html": [
       "<div>\n",
       "<style scoped>\n",
       "    .dataframe tbody tr th:only-of-type {\n",
       "        vertical-align: middle;\n",
       "    }\n",
       "\n",
       "    .dataframe tbody tr th {\n",
       "        vertical-align: top;\n",
       "    }\n",
       "\n",
       "    .dataframe thead th {\n",
       "        text-align: right;\n",
       "    }\n",
       "</style>\n",
       "<table border=\"1\" class=\"dataframe\">\n",
       "  <thead>\n",
       "    <tr style=\"text-align: right;\">\n",
       "      <th></th>\n",
       "      <th>Row ID</th>\n",
       "      <th>Postal Code</th>\n",
       "      <th>Sales</th>\n",
       "      <th>Quantity</th>\n",
       "      <th>Discount</th>\n",
       "      <th>Profit</th>\n",
       "    </tr>\n",
       "  </thead>\n",
       "  <tbody>\n",
       "    <tr>\n",
       "      <th>count</th>\n",
       "      <td>9994.000000</td>\n",
       "      <td>9994.000000</td>\n",
       "      <td>9994.000000</td>\n",
       "      <td>9994.000000</td>\n",
       "      <td>9994.000000</td>\n",
       "      <td>9994.000000</td>\n",
       "    </tr>\n",
       "    <tr>\n",
       "      <th>mean</th>\n",
       "      <td>4997.500000</td>\n",
       "      <td>55190.379428</td>\n",
       "      <td>229.858001</td>\n",
       "      <td>3.789574</td>\n",
       "      <td>0.156203</td>\n",
       "      <td>28.656896</td>\n",
       "    </tr>\n",
       "    <tr>\n",
       "      <th>std</th>\n",
       "      <td>2885.163629</td>\n",
       "      <td>32063.693350</td>\n",
       "      <td>623.245101</td>\n",
       "      <td>2.225110</td>\n",
       "      <td>0.206452</td>\n",
       "      <td>234.260108</td>\n",
       "    </tr>\n",
       "    <tr>\n",
       "      <th>min</th>\n",
       "      <td>1.000000</td>\n",
       "      <td>1040.000000</td>\n",
       "      <td>0.444000</td>\n",
       "      <td>1.000000</td>\n",
       "      <td>0.000000</td>\n",
       "      <td>-6599.978000</td>\n",
       "    </tr>\n",
       "    <tr>\n",
       "      <th>25%</th>\n",
       "      <td>2499.250000</td>\n",
       "      <td>23223.000000</td>\n",
       "      <td>17.280000</td>\n",
       "      <td>2.000000</td>\n",
       "      <td>0.000000</td>\n",
       "      <td>1.728750</td>\n",
       "    </tr>\n",
       "    <tr>\n",
       "      <th>50%</th>\n",
       "      <td>4997.500000</td>\n",
       "      <td>56430.500000</td>\n",
       "      <td>54.490000</td>\n",
       "      <td>3.000000</td>\n",
       "      <td>0.200000</td>\n",
       "      <td>8.666500</td>\n",
       "    </tr>\n",
       "    <tr>\n",
       "      <th>75%</th>\n",
       "      <td>7495.750000</td>\n",
       "      <td>90008.000000</td>\n",
       "      <td>209.940000</td>\n",
       "      <td>5.000000</td>\n",
       "      <td>0.200000</td>\n",
       "      <td>29.364000</td>\n",
       "    </tr>\n",
       "    <tr>\n",
       "      <th>max</th>\n",
       "      <td>9994.000000</td>\n",
       "      <td>99301.000000</td>\n",
       "      <td>22638.480000</td>\n",
       "      <td>14.000000</td>\n",
       "      <td>0.800000</td>\n",
       "      <td>8399.976000</td>\n",
       "    </tr>\n",
       "  </tbody>\n",
       "</table>\n",
       "</div>"
      ],
      "text/plain": [
       "            Row ID   Postal Code         Sales     Quantity     Discount  \\\n",
       "count  9994.000000   9994.000000   9994.000000  9994.000000  9994.000000   \n",
       "mean   4997.500000  55190.379428    229.858001     3.789574     0.156203   \n",
       "std    2885.163629  32063.693350    623.245101     2.225110     0.206452   \n",
       "min       1.000000   1040.000000      0.444000     1.000000     0.000000   \n",
       "25%    2499.250000  23223.000000     17.280000     2.000000     0.000000   \n",
       "50%    4997.500000  56430.500000     54.490000     3.000000     0.200000   \n",
       "75%    7495.750000  90008.000000    209.940000     5.000000     0.200000   \n",
       "max    9994.000000  99301.000000  22638.480000    14.000000     0.800000   \n",
       "\n",
       "            Profit  \n",
       "count  9994.000000  \n",
       "mean     28.656896  \n",
       "std     234.260108  \n",
       "min   -6599.978000  \n",
       "25%       1.728750  \n",
       "50%       8.666500  \n",
       "75%      29.364000  \n",
       "max    8399.976000  "
      ]
     },
     "execution_count": 3,
     "metadata": {},
     "output_type": "execute_result"
    }
   ],
   "source": [
    "df.describe()"
   ]
  },
  {
   "cell_type": "code",
   "execution_count": 4,
   "id": "47ff4c75",
   "metadata": {
    "execution": {
     "iopub.execute_input": "2024-12-30T19:54:06.912380Z",
     "iopub.status.busy": "2024-12-30T19:54:06.912013Z",
     "iopub.status.idle": "2024-12-30T19:54:06.942748Z",
     "shell.execute_reply": "2024-12-30T19:54:06.941153Z"
    },
    "papermill": {
     "duration": 0.042003,
     "end_time": "2024-12-30T19:54:06.944586",
     "exception": false,
     "start_time": "2024-12-30T19:54:06.902583",
     "status": "completed"
    },
    "tags": []
   },
   "outputs": [
    {
     "name": "stdout",
     "output_type": "stream",
     "text": [
      "<class 'pandas.core.frame.DataFrame'>\n",
      "RangeIndex: 9994 entries, 0 to 9993\n",
      "Data columns (total 21 columns):\n",
      " #   Column         Non-Null Count  Dtype  \n",
      "---  ------         --------------  -----  \n",
      " 0   Row ID         9994 non-null   int64  \n",
      " 1   Order ID       9994 non-null   object \n",
      " 2   Order Date     9994 non-null   object \n",
      " 3   Ship Date      9994 non-null   object \n",
      " 4   Ship Mode      9994 non-null   object \n",
      " 5   Customer ID    9994 non-null   object \n",
      " 6   Customer Name  9994 non-null   object \n",
      " 7   Segment        9994 non-null   object \n",
      " 8   Country        9994 non-null   object \n",
      " 9   City           9994 non-null   object \n",
      " 10  State          9994 non-null   object \n",
      " 11  Postal Code    9994 non-null   int64  \n",
      " 12  Region         9994 non-null   object \n",
      " 13  Product ID     9994 non-null   object \n",
      " 14  Category       9994 non-null   object \n",
      " 15  Sub-Category   9994 non-null   object \n",
      " 16  Product Name   9994 non-null   object \n",
      " 17  Sales          9994 non-null   float64\n",
      " 18  Quantity       9994 non-null   int64  \n",
      " 19  Discount       9994 non-null   float64\n",
      " 20  Profit         9994 non-null   float64\n",
      "dtypes: float64(3), int64(3), object(15)\n",
      "memory usage: 1.6+ MB\n"
     ]
    }
   ],
   "source": [
    "df.info()"
   ]
  },
  {
   "cell_type": "code",
   "execution_count": 5,
   "id": "36b14d4a",
   "metadata": {
    "execution": {
     "iopub.execute_input": "2024-12-30T19:54:06.964589Z",
     "iopub.status.busy": "2024-12-30T19:54:06.964245Z",
     "iopub.status.idle": "2024-12-30T19:54:06.985003Z",
     "shell.execute_reply": "2024-12-30T19:54:06.983623Z"
    },
    "papermill": {
     "duration": 0.032773,
     "end_time": "2024-12-30T19:54:06.986843",
     "exception": false,
     "start_time": "2024-12-30T19:54:06.954070",
     "status": "completed"
    },
    "tags": []
   },
   "outputs": [
    {
     "data": {
      "text/html": [
       "<div>\n",
       "<style scoped>\n",
       "    .dataframe tbody tr th:only-of-type {\n",
       "        vertical-align: middle;\n",
       "    }\n",
       "\n",
       "    .dataframe tbody tr th {\n",
       "        vertical-align: top;\n",
       "    }\n",
       "\n",
       "    .dataframe thead th {\n",
       "        text-align: right;\n",
       "    }\n",
       "</style>\n",
       "<table border=\"1\" class=\"dataframe\">\n",
       "  <thead>\n",
       "    <tr style=\"text-align: right;\">\n",
       "      <th></th>\n",
       "      <th>Row ID</th>\n",
       "      <th>Order ID</th>\n",
       "      <th>Order Date</th>\n",
       "      <th>Ship Date</th>\n",
       "      <th>Ship Mode</th>\n",
       "      <th>Customer ID</th>\n",
       "      <th>Customer Name</th>\n",
       "      <th>Segment</th>\n",
       "      <th>Country</th>\n",
       "      <th>City</th>\n",
       "      <th>...</th>\n",
       "      <th>Postal Code</th>\n",
       "      <th>Region</th>\n",
       "      <th>Product ID</th>\n",
       "      <th>Category</th>\n",
       "      <th>Sub-Category</th>\n",
       "      <th>Product Name</th>\n",
       "      <th>Sales</th>\n",
       "      <th>Quantity</th>\n",
       "      <th>Discount</th>\n",
       "      <th>Profit</th>\n",
       "    </tr>\n",
       "  </thead>\n",
       "  <tbody>\n",
       "    <tr>\n",
       "      <th>0</th>\n",
       "      <td>1</td>\n",
       "      <td>CA-2016-152156</td>\n",
       "      <td>11/8/2016</td>\n",
       "      <td>11/11/2016</td>\n",
       "      <td>Second Class</td>\n",
       "      <td>CG-12520</td>\n",
       "      <td>Claire Gute</td>\n",
       "      <td>Consumer</td>\n",
       "      <td>United States</td>\n",
       "      <td>Henderson</td>\n",
       "      <td>...</td>\n",
       "      <td>42420</td>\n",
       "      <td>South</td>\n",
       "      <td>FUR-BO-10001798</td>\n",
       "      <td>Furniture</td>\n",
       "      <td>Bookcases</td>\n",
       "      <td>Bush Somerset Collection Bookcase</td>\n",
       "      <td>261.96</td>\n",
       "      <td>2</td>\n",
       "      <td>0.0</td>\n",
       "      <td>41.9136</td>\n",
       "    </tr>\n",
       "    <tr>\n",
       "      <th>1</th>\n",
       "      <td>2</td>\n",
       "      <td>CA-2016-152156</td>\n",
       "      <td>11/8/2016</td>\n",
       "      <td>11/11/2016</td>\n",
       "      <td>Second Class</td>\n",
       "      <td>CG-12520</td>\n",
       "      <td>Claire Gute</td>\n",
       "      <td>Consumer</td>\n",
       "      <td>United States</td>\n",
       "      <td>Henderson</td>\n",
       "      <td>...</td>\n",
       "      <td>42420</td>\n",
       "      <td>South</td>\n",
       "      <td>FUR-CH-10000454</td>\n",
       "      <td>Furniture</td>\n",
       "      <td>Chairs</td>\n",
       "      <td>Hon Deluxe Fabric Upholstered Stacking Chairs,...</td>\n",
       "      <td>731.94</td>\n",
       "      <td>3</td>\n",
       "      <td>0.0</td>\n",
       "      <td>219.5820</td>\n",
       "    </tr>\n",
       "    <tr>\n",
       "      <th>2</th>\n",
       "      <td>3</td>\n",
       "      <td>CA-2016-138688</td>\n",
       "      <td>6/12/2016</td>\n",
       "      <td>6/16/2016</td>\n",
       "      <td>Second Class</td>\n",
       "      <td>DV-13045</td>\n",
       "      <td>Darrin Van Huff</td>\n",
       "      <td>Corporate</td>\n",
       "      <td>United States</td>\n",
       "      <td>Los Angeles</td>\n",
       "      <td>...</td>\n",
       "      <td>90036</td>\n",
       "      <td>West</td>\n",
       "      <td>OFF-LA-10000240</td>\n",
       "      <td>Office Supplies</td>\n",
       "      <td>Labels</td>\n",
       "      <td>Self-Adhesive Address Labels for Typewriters b...</td>\n",
       "      <td>14.62</td>\n",
       "      <td>2</td>\n",
       "      <td>0.0</td>\n",
       "      <td>6.8714</td>\n",
       "    </tr>\n",
       "  </tbody>\n",
       "</table>\n",
       "<p>3 rows × 21 columns</p>\n",
       "</div>"
      ],
      "text/plain": [
       "   Row ID        Order ID Order Date   Ship Date     Ship Mode Customer ID  \\\n",
       "0       1  CA-2016-152156  11/8/2016  11/11/2016  Second Class    CG-12520   \n",
       "1       2  CA-2016-152156  11/8/2016  11/11/2016  Second Class    CG-12520   \n",
       "2       3  CA-2016-138688  6/12/2016   6/16/2016  Second Class    DV-13045   \n",
       "\n",
       "     Customer Name    Segment        Country         City  ... Postal Code  \\\n",
       "0      Claire Gute   Consumer  United States    Henderson  ...       42420   \n",
       "1      Claire Gute   Consumer  United States    Henderson  ...       42420   \n",
       "2  Darrin Van Huff  Corporate  United States  Los Angeles  ...       90036   \n",
       "\n",
       "   Region       Product ID         Category Sub-Category  \\\n",
       "0   South  FUR-BO-10001798        Furniture    Bookcases   \n",
       "1   South  FUR-CH-10000454        Furniture       Chairs   \n",
       "2    West  OFF-LA-10000240  Office Supplies       Labels   \n",
       "\n",
       "                                        Product Name   Sales  Quantity  \\\n",
       "0                  Bush Somerset Collection Bookcase  261.96         2   \n",
       "1  Hon Deluxe Fabric Upholstered Stacking Chairs,...  731.94         3   \n",
       "2  Self-Adhesive Address Labels for Typewriters b...   14.62         2   \n",
       "\n",
       "   Discount    Profit  \n",
       "0       0.0   41.9136  \n",
       "1       0.0  219.5820  \n",
       "2       0.0    6.8714  \n",
       "\n",
       "[3 rows x 21 columns]"
      ]
     },
     "execution_count": 5,
     "metadata": {},
     "output_type": "execute_result"
    }
   ],
   "source": [
    "df.head(3)"
   ]
  },
  {
   "cell_type": "markdown",
   "id": "3689a36f",
   "metadata": {
    "papermill": {
     "duration": 0.009917,
     "end_time": "2024-12-30T19:54:07.006566",
     "exception": false,
     "start_time": "2024-12-30T19:54:06.996649",
     "status": "completed"
    },
    "tags": []
   },
   "source": [
    "# change Datatype"
   ]
  },
  {
   "cell_type": "code",
   "execution_count": 6,
   "id": "9768df7e",
   "metadata": {
    "execution": {
     "iopub.execute_input": "2024-12-30T19:54:07.026306Z",
     "iopub.status.busy": "2024-12-30T19:54:07.025947Z",
     "iopub.status.idle": "2024-12-30T19:54:07.047952Z",
     "shell.execute_reply": "2024-12-30T19:54:07.046795Z"
    },
    "papermill": {
     "duration": 0.034249,
     "end_time": "2024-12-30T19:54:07.050099",
     "exception": false,
     "start_time": "2024-12-30T19:54:07.015850",
     "status": "completed"
    },
    "tags": []
   },
   "outputs": [],
   "source": [
    "df[\"Order Date\"] = pd.to_datetime(df[\"Order Date\"])\n",
    "df[\"Ship Date\"] = pd.to_datetime(df[\"Ship Date\"])\n"
   ]
  },
  {
   "cell_type": "code",
   "execution_count": 7,
   "id": "3aaedc74",
   "metadata": {
    "execution": {
     "iopub.execute_input": "2024-12-30T19:54:07.069812Z",
     "iopub.status.busy": "2024-12-30T19:54:07.069426Z",
     "iopub.status.idle": "2024-12-30T19:54:07.087779Z",
     "shell.execute_reply": "2024-12-30T19:54:07.086221Z"
    },
    "papermill": {
     "duration": 0.03036,
     "end_time": "2024-12-30T19:54:07.089651",
     "exception": false,
     "start_time": "2024-12-30T19:54:07.059291",
     "status": "completed"
    },
    "tags": []
   },
   "outputs": [
    {
     "name": "stdout",
     "output_type": "stream",
     "text": [
      "<class 'pandas.core.frame.DataFrame'>\n",
      "RangeIndex: 9994 entries, 0 to 9993\n",
      "Data columns (total 21 columns):\n",
      " #   Column         Non-Null Count  Dtype         \n",
      "---  ------         --------------  -----         \n",
      " 0   Row ID         9994 non-null   int64         \n",
      " 1   Order ID       9994 non-null   object        \n",
      " 2   Order Date     9994 non-null   datetime64[ns]\n",
      " 3   Ship Date      9994 non-null   datetime64[ns]\n",
      " 4   Ship Mode      9994 non-null   object        \n",
      " 5   Customer ID    9994 non-null   object        \n",
      " 6   Customer Name  9994 non-null   object        \n",
      " 7   Segment        9994 non-null   object        \n",
      " 8   Country        9994 non-null   object        \n",
      " 9   City           9994 non-null   object        \n",
      " 10  State          9994 non-null   object        \n",
      " 11  Postal Code    9994 non-null   int64         \n",
      " 12  Region         9994 non-null   object        \n",
      " 13  Product ID     9994 non-null   object        \n",
      " 14  Category       9994 non-null   object        \n",
      " 15  Sub-Category   9994 non-null   object        \n",
      " 16  Product Name   9994 non-null   object        \n",
      " 17  Sales          9994 non-null   float64       \n",
      " 18  Quantity       9994 non-null   int64         \n",
      " 19  Discount       9994 non-null   float64       \n",
      " 20  Profit         9994 non-null   float64       \n",
      "dtypes: datetime64[ns](2), float64(3), int64(3), object(13)\n",
      "memory usage: 1.6+ MB\n"
     ]
    }
   ],
   "source": [
    "df.info()"
   ]
  },
  {
   "cell_type": "markdown",
   "id": "d43fe676",
   "metadata": {
    "papermill": {
     "duration": 0.009163,
     "end_time": "2024-12-30T19:54:07.108381",
     "exception": false,
     "start_time": "2024-12-30T19:54:07.099218",
     "status": "completed"
    },
    "tags": []
   },
   "source": [
    "# create new columns month,year, day of week"
   ]
  },
  {
   "cell_type": "code",
   "execution_count": 8,
   "id": "063535bc",
   "metadata": {
    "execution": {
     "iopub.execute_input": "2024-12-30T19:54:07.127839Z",
     "iopub.status.busy": "2024-12-30T19:54:07.127430Z",
     "iopub.status.idle": "2024-12-30T19:54:07.135587Z",
     "shell.execute_reply": "2024-12-30T19:54:07.134618Z"
    },
    "papermill": {
     "duration": 0.01985,
     "end_time": "2024-12-30T19:54:07.137321",
     "exception": false,
     "start_time": "2024-12-30T19:54:07.117471",
     "status": "completed"
    },
    "tags": []
   },
   "outputs": [],
   "source": [
    "df[\"Order_month\"] = df[\"Order Date\"].dt.month\n",
    "df[\"Order_year\"] = df[\"Order Date\"].dt.year\n",
    "df[\"Order_day_of_week\"] = df[\"Order Date\"].dt.dayofweek"
   ]
  },
  {
   "cell_type": "code",
   "execution_count": 9,
   "id": "625a3165",
   "metadata": {
    "execution": {
     "iopub.execute_input": "2024-12-30T19:54:07.158234Z",
     "iopub.status.busy": "2024-12-30T19:54:07.157867Z",
     "iopub.status.idle": "2024-12-30T19:54:07.182022Z",
     "shell.execute_reply": "2024-12-30T19:54:07.180788Z"
    },
    "papermill": {
     "duration": 0.036368,
     "end_time": "2024-12-30T19:54:07.184124",
     "exception": false,
     "start_time": "2024-12-30T19:54:07.147756",
     "status": "completed"
    },
    "tags": []
   },
   "outputs": [
    {
     "data": {
      "text/html": [
       "<div>\n",
       "<style scoped>\n",
       "    .dataframe tbody tr th:only-of-type {\n",
       "        vertical-align: middle;\n",
       "    }\n",
       "\n",
       "    .dataframe tbody tr th {\n",
       "        vertical-align: top;\n",
       "    }\n",
       "\n",
       "    .dataframe thead th {\n",
       "        text-align: right;\n",
       "    }\n",
       "</style>\n",
       "<table border=\"1\" class=\"dataframe\">\n",
       "  <thead>\n",
       "    <tr style=\"text-align: right;\">\n",
       "      <th></th>\n",
       "      <th>Row ID</th>\n",
       "      <th>Order ID</th>\n",
       "      <th>Order Date</th>\n",
       "      <th>Ship Date</th>\n",
       "      <th>Ship Mode</th>\n",
       "      <th>Customer ID</th>\n",
       "      <th>Customer Name</th>\n",
       "      <th>Segment</th>\n",
       "      <th>Country</th>\n",
       "      <th>City</th>\n",
       "      <th>...</th>\n",
       "      <th>Category</th>\n",
       "      <th>Sub-Category</th>\n",
       "      <th>Product Name</th>\n",
       "      <th>Sales</th>\n",
       "      <th>Quantity</th>\n",
       "      <th>Discount</th>\n",
       "      <th>Profit</th>\n",
       "      <th>Order_month</th>\n",
       "      <th>Order_year</th>\n",
       "      <th>Order_day_of_week</th>\n",
       "    </tr>\n",
       "  </thead>\n",
       "  <tbody>\n",
       "    <tr>\n",
       "      <th>0</th>\n",
       "      <td>1</td>\n",
       "      <td>CA-2016-152156</td>\n",
       "      <td>2016-11-08</td>\n",
       "      <td>2016-11-11</td>\n",
       "      <td>Second Class</td>\n",
       "      <td>CG-12520</td>\n",
       "      <td>Claire Gute</td>\n",
       "      <td>Consumer</td>\n",
       "      <td>United States</td>\n",
       "      <td>Henderson</td>\n",
       "      <td>...</td>\n",
       "      <td>Furniture</td>\n",
       "      <td>Bookcases</td>\n",
       "      <td>Bush Somerset Collection Bookcase</td>\n",
       "      <td>261.96</td>\n",
       "      <td>2</td>\n",
       "      <td>0.0</td>\n",
       "      <td>41.9136</td>\n",
       "      <td>11</td>\n",
       "      <td>2016</td>\n",
       "      <td>1</td>\n",
       "    </tr>\n",
       "    <tr>\n",
       "      <th>1</th>\n",
       "      <td>2</td>\n",
       "      <td>CA-2016-152156</td>\n",
       "      <td>2016-11-08</td>\n",
       "      <td>2016-11-11</td>\n",
       "      <td>Second Class</td>\n",
       "      <td>CG-12520</td>\n",
       "      <td>Claire Gute</td>\n",
       "      <td>Consumer</td>\n",
       "      <td>United States</td>\n",
       "      <td>Henderson</td>\n",
       "      <td>...</td>\n",
       "      <td>Furniture</td>\n",
       "      <td>Chairs</td>\n",
       "      <td>Hon Deluxe Fabric Upholstered Stacking Chairs,...</td>\n",
       "      <td>731.94</td>\n",
       "      <td>3</td>\n",
       "      <td>0.0</td>\n",
       "      <td>219.5820</td>\n",
       "      <td>11</td>\n",
       "      <td>2016</td>\n",
       "      <td>1</td>\n",
       "    </tr>\n",
       "  </tbody>\n",
       "</table>\n",
       "<p>2 rows × 24 columns</p>\n",
       "</div>"
      ],
      "text/plain": [
       "   Row ID        Order ID Order Date  Ship Date     Ship Mode Customer ID  \\\n",
       "0       1  CA-2016-152156 2016-11-08 2016-11-11  Second Class    CG-12520   \n",
       "1       2  CA-2016-152156 2016-11-08 2016-11-11  Second Class    CG-12520   \n",
       "\n",
       "  Customer Name   Segment        Country       City  ...   Category  \\\n",
       "0   Claire Gute  Consumer  United States  Henderson  ...  Furniture   \n",
       "1   Claire Gute  Consumer  United States  Henderson  ...  Furniture   \n",
       "\n",
       "   Sub-Category                                       Product Name   Sales  \\\n",
       "0     Bookcases                  Bush Somerset Collection Bookcase  261.96   \n",
       "1        Chairs  Hon Deluxe Fabric Upholstered Stacking Chairs,...  731.94   \n",
       "\n",
       "  Quantity Discount    Profit  Order_month  Order_year  Order_day_of_week  \n",
       "0        2      0.0   41.9136           11        2016                  1  \n",
       "1        3      0.0  219.5820           11        2016                  1  \n",
       "\n",
       "[2 rows x 24 columns]"
      ]
     },
     "execution_count": 9,
     "metadata": {},
     "output_type": "execute_result"
    }
   ],
   "source": [
    "df.head(2)"
   ]
  },
  {
   "cell_type": "code",
   "execution_count": 10,
   "id": "8895a14d",
   "metadata": {
    "execution": {
     "iopub.execute_input": "2024-12-30T19:54:07.204792Z",
     "iopub.status.busy": "2024-12-30T19:54:07.204413Z",
     "iopub.status.idle": "2024-12-30T19:54:07.387511Z",
     "shell.execute_reply": "2024-12-30T19:54:07.385596Z"
    },
    "papermill": {
     "duration": 0.195763,
     "end_time": "2024-12-30T19:54:07.389763",
     "exception": true,
     "start_time": "2024-12-30T19:54:07.194000",
     "status": "failed"
    },
    "tags": []
   },
   "outputs": [
    {
     "ename": "KeyError",
     "evalue": "\"['year'] not found in axis\"",
     "output_type": "error",
     "traceback": [
      "\u001b[0;31m---------------------------------------------------------------------------\u001b[0m",
      "\u001b[0;31mKeyError\u001b[0m                                  Traceback (most recent call last)",
      "\u001b[0;32m<ipython-input-10-008b383d0081>\u001b[0m in \u001b[0;36m<cell line: 1>\u001b[0;34m()\u001b[0m\n\u001b[0;32m----> 1\u001b[0;31m \u001b[0mdf\u001b[0m \u001b[0;34m=\u001b[0m \u001b[0mdf\u001b[0m\u001b[0;34m.\u001b[0m\u001b[0mdrop\u001b[0m\u001b[0;34m(\u001b[0m\u001b[0mcolumns\u001b[0m \u001b[0;34m=\u001b[0m \u001b[0;34m\"year\"\u001b[0m\u001b[0;34m)\u001b[0m\u001b[0;34m\u001b[0m\u001b[0;34m\u001b[0m\u001b[0m\n\u001b[0m",
      "\u001b[0;32m/usr/local/lib/python3.10/dist-packages/pandas/core/frame.py\u001b[0m in \u001b[0;36mdrop\u001b[0;34m(self, labels, axis, index, columns, level, inplace, errors)\u001b[0m\n\u001b[1;32m   5342\u001b[0m                 \u001b[0mweight\u001b[0m  \u001b[0;36m1.0\u001b[0m     \u001b[0;36m0.8\u001b[0m\u001b[0;34m\u001b[0m\u001b[0;34m\u001b[0m\u001b[0m\n\u001b[1;32m   5343\u001b[0m         \"\"\"\n\u001b[0;32m-> 5344\u001b[0;31m         return super().drop(\n\u001b[0m\u001b[1;32m   5345\u001b[0m             \u001b[0mlabels\u001b[0m\u001b[0;34m=\u001b[0m\u001b[0mlabels\u001b[0m\u001b[0;34m,\u001b[0m\u001b[0;34m\u001b[0m\u001b[0;34m\u001b[0m\u001b[0m\n\u001b[1;32m   5346\u001b[0m             \u001b[0maxis\u001b[0m\u001b[0;34m=\u001b[0m\u001b[0maxis\u001b[0m\u001b[0;34m,\u001b[0m\u001b[0;34m\u001b[0m\u001b[0;34m\u001b[0m\u001b[0m\n",
      "\u001b[0;32m/usr/local/lib/python3.10/dist-packages/pandas/core/generic.py\u001b[0m in \u001b[0;36mdrop\u001b[0;34m(self, labels, axis, index, columns, level, inplace, errors)\u001b[0m\n\u001b[1;32m   4709\u001b[0m         \u001b[0;32mfor\u001b[0m \u001b[0maxis\u001b[0m\u001b[0;34m,\u001b[0m \u001b[0mlabels\u001b[0m \u001b[0;32min\u001b[0m \u001b[0maxes\u001b[0m\u001b[0;34m.\u001b[0m\u001b[0mitems\u001b[0m\u001b[0;34m(\u001b[0m\u001b[0;34m)\u001b[0m\u001b[0;34m:\u001b[0m\u001b[0;34m\u001b[0m\u001b[0;34m\u001b[0m\u001b[0m\n\u001b[1;32m   4710\u001b[0m             \u001b[0;32mif\u001b[0m \u001b[0mlabels\u001b[0m \u001b[0;32mis\u001b[0m \u001b[0;32mnot\u001b[0m \u001b[0;32mNone\u001b[0m\u001b[0;34m:\u001b[0m\u001b[0;34m\u001b[0m\u001b[0;34m\u001b[0m\u001b[0m\n\u001b[0;32m-> 4711\u001b[0;31m                 \u001b[0mobj\u001b[0m \u001b[0;34m=\u001b[0m \u001b[0mobj\u001b[0m\u001b[0;34m.\u001b[0m\u001b[0m_drop_axis\u001b[0m\u001b[0;34m(\u001b[0m\u001b[0mlabels\u001b[0m\u001b[0;34m,\u001b[0m \u001b[0maxis\u001b[0m\u001b[0;34m,\u001b[0m \u001b[0mlevel\u001b[0m\u001b[0;34m=\u001b[0m\u001b[0mlevel\u001b[0m\u001b[0;34m,\u001b[0m \u001b[0merrors\u001b[0m\u001b[0;34m=\u001b[0m\u001b[0merrors\u001b[0m\u001b[0;34m)\u001b[0m\u001b[0;34m\u001b[0m\u001b[0;34m\u001b[0m\u001b[0m\n\u001b[0m\u001b[1;32m   4712\u001b[0m \u001b[0;34m\u001b[0m\u001b[0m\n\u001b[1;32m   4713\u001b[0m         \u001b[0;32mif\u001b[0m \u001b[0minplace\u001b[0m\u001b[0;34m:\u001b[0m\u001b[0;34m\u001b[0m\u001b[0;34m\u001b[0m\u001b[0m\n",
      "\u001b[0;32m/usr/local/lib/python3.10/dist-packages/pandas/core/generic.py\u001b[0m in \u001b[0;36m_drop_axis\u001b[0;34m(self, labels, axis, level, errors, only_slice)\u001b[0m\n\u001b[1;32m   4751\u001b[0m                 \u001b[0mnew_axis\u001b[0m \u001b[0;34m=\u001b[0m \u001b[0maxis\u001b[0m\u001b[0;34m.\u001b[0m\u001b[0mdrop\u001b[0m\u001b[0;34m(\u001b[0m\u001b[0mlabels\u001b[0m\u001b[0;34m,\u001b[0m \u001b[0mlevel\u001b[0m\u001b[0;34m=\u001b[0m\u001b[0mlevel\u001b[0m\u001b[0;34m,\u001b[0m \u001b[0merrors\u001b[0m\u001b[0;34m=\u001b[0m\u001b[0merrors\u001b[0m\u001b[0;34m)\u001b[0m\u001b[0;34m\u001b[0m\u001b[0;34m\u001b[0m\u001b[0m\n\u001b[1;32m   4752\u001b[0m             \u001b[0;32melse\u001b[0m\u001b[0;34m:\u001b[0m\u001b[0;34m\u001b[0m\u001b[0;34m\u001b[0m\u001b[0m\n\u001b[0;32m-> 4753\u001b[0;31m                 \u001b[0mnew_axis\u001b[0m \u001b[0;34m=\u001b[0m \u001b[0maxis\u001b[0m\u001b[0;34m.\u001b[0m\u001b[0mdrop\u001b[0m\u001b[0;34m(\u001b[0m\u001b[0mlabels\u001b[0m\u001b[0;34m,\u001b[0m \u001b[0merrors\u001b[0m\u001b[0;34m=\u001b[0m\u001b[0merrors\u001b[0m\u001b[0;34m)\u001b[0m\u001b[0;34m\u001b[0m\u001b[0;34m\u001b[0m\u001b[0m\n\u001b[0m\u001b[1;32m   4754\u001b[0m             \u001b[0mindexer\u001b[0m \u001b[0;34m=\u001b[0m \u001b[0maxis\u001b[0m\u001b[0;34m.\u001b[0m\u001b[0mget_indexer\u001b[0m\u001b[0;34m(\u001b[0m\u001b[0mnew_axis\u001b[0m\u001b[0;34m)\u001b[0m\u001b[0;34m\u001b[0m\u001b[0;34m\u001b[0m\u001b[0m\n\u001b[1;32m   4755\u001b[0m \u001b[0;34m\u001b[0m\u001b[0m\n",
      "\u001b[0;32m/usr/local/lib/python3.10/dist-packages/pandas/core/indexes/base.py\u001b[0m in \u001b[0;36mdrop\u001b[0;34m(self, labels, errors)\u001b[0m\n\u001b[1;32m   6998\u001b[0m         \u001b[0;32mif\u001b[0m \u001b[0mmask\u001b[0m\u001b[0;34m.\u001b[0m\u001b[0many\u001b[0m\u001b[0;34m(\u001b[0m\u001b[0;34m)\u001b[0m\u001b[0;34m:\u001b[0m\u001b[0;34m\u001b[0m\u001b[0;34m\u001b[0m\u001b[0m\n\u001b[1;32m   6999\u001b[0m             \u001b[0;32mif\u001b[0m \u001b[0merrors\u001b[0m \u001b[0;34m!=\u001b[0m \u001b[0;34m\"ignore\"\u001b[0m\u001b[0;34m:\u001b[0m\u001b[0;34m\u001b[0m\u001b[0;34m\u001b[0m\u001b[0m\n\u001b[0;32m-> 7000\u001b[0;31m                 \u001b[0;32mraise\u001b[0m \u001b[0mKeyError\u001b[0m\u001b[0;34m(\u001b[0m\u001b[0;34mf\"{labels[mask].tolist()} not found in axis\"\u001b[0m\u001b[0;34m)\u001b[0m\u001b[0;34m\u001b[0m\u001b[0;34m\u001b[0m\u001b[0m\n\u001b[0m\u001b[1;32m   7001\u001b[0m             \u001b[0mindexer\u001b[0m \u001b[0;34m=\u001b[0m \u001b[0mindexer\u001b[0m\u001b[0;34m[\u001b[0m\u001b[0;34m~\u001b[0m\u001b[0mmask\u001b[0m\u001b[0;34m]\u001b[0m\u001b[0;34m\u001b[0m\u001b[0;34m\u001b[0m\u001b[0m\n\u001b[1;32m   7002\u001b[0m         \u001b[0;32mreturn\u001b[0m \u001b[0mself\u001b[0m\u001b[0;34m.\u001b[0m\u001b[0mdelete\u001b[0m\u001b[0;34m(\u001b[0m\u001b[0mindexer\u001b[0m\u001b[0;34m)\u001b[0m\u001b[0;34m\u001b[0m\u001b[0;34m\u001b[0m\u001b[0m\n",
      "\u001b[0;31mKeyError\u001b[0m: \"['year'] not found in axis\""
     ]
    }
   ],
   "source": [
    "df = df.drop(columns = \"year\")"
   ]
  },
  {
   "cell_type": "code",
   "execution_count": null,
   "id": "81a439b9",
   "metadata": {
    "execution": {
     "iopub.execute_input": "2024-12-30T17:44:32.203435Z",
     "iopub.status.busy": "2024-12-30T17:44:32.203093Z",
     "iopub.status.idle": "2024-12-30T17:44:32.226452Z",
     "shell.execute_reply": "2024-12-30T17:44:32.225152Z",
     "shell.execute_reply.started": "2024-12-30T17:44:32.203408Z"
    },
    "papermill": {
     "duration": null,
     "end_time": null,
     "exception": null,
     "start_time": null,
     "status": "pending"
    },
    "tags": []
   },
   "outputs": [],
   "source": [
    "df.head(2)"
   ]
  },
  {
   "cell_type": "markdown",
   "id": "f6441dea",
   "metadata": {
    "papermill": {
     "duration": null,
     "end_time": null,
     "exception": null,
     "start_time": null,
     "status": "pending"
    },
    "tags": []
   },
   "source": [
    "\n",
    "**You need to calculate the monthly sales of the store and identify which month had the highest sales and which month had the lowest sales.**\n"
   ]
  },
  {
   "cell_type": "markdown",
   "id": "4b8ad7f3",
   "metadata": {
    "papermill": {
     "duration": null,
     "end_time": null,
     "exception": null,
     "start_time": null,
     "status": "pending"
    },
    "tags": []
   },
   "source": [
    "**month wise sales**"
   ]
  },
  {
   "cell_type": "code",
   "execution_count": null,
   "id": "d79bd0fd",
   "metadata": {
    "execution": {
     "iopub.execute_input": "2024-12-30T17:49:39.510617Z",
     "iopub.status.busy": "2024-12-30T17:49:39.510289Z",
     "iopub.status.idle": "2024-12-30T17:49:39.522571Z",
     "shell.execute_reply": "2024-12-30T17:49:39.521525Z",
     "shell.execute_reply.started": "2024-12-30T17:49:39.510591Z"
    },
    "papermill": {
     "duration": null,
     "end_time": null,
     "exception": null,
     "start_time": null,
     "status": "pending"
    },
    "tags": []
   },
   "outputs": [],
   "source": [
    "monthly_sales = df.groupby(\"Order_month\")[\"Sales\"].sum().reset_index()\n",
    "monthly_sales"
   ]
  },
  {
   "cell_type": "code",
   "execution_count": null,
   "id": "07c63812",
   "metadata": {
    "execution": {
     "iopub.execute_input": "2024-12-30T17:54:30.594093Z",
     "iopub.status.busy": "2024-12-30T17:54:30.593513Z",
     "iopub.status.idle": "2024-12-30T17:54:30.647708Z",
     "shell.execute_reply": "2024-12-30T17:54:30.646344Z",
     "shell.execute_reply.started": "2024-12-30T17:54:30.594048Z"
    },
    "papermill": {
     "duration": null,
     "end_time": null,
     "exception": null,
     "start_time": null,
     "status": "pending"
    },
    "tags": []
   },
   "outputs": [],
   "source": [
    "fig1 = px.line(monthly_sales,\n",
    "              x = \"Order_month\",\n",
    "              y = \"Sales\",\n",
    "              title = \"Monthly Sales Analysis\")\n",
    "fig1.show()"
   ]
  },
  {
   "cell_type": "markdown",
   "id": "b767548b",
   "metadata": {
    "papermill": {
     "duration": null,
     "end_time": null,
     "exception": null,
     "start_time": null,
     "status": "pending"
    },
    "tags": []
   },
   "source": [
    "\n",
    "**You need to analyze sales based on product categories and determine which category has the lowest sales and which category has the highest sales.**\n"
   ]
  },
  {
   "cell_type": "markdown",
   "id": "b0e4accf",
   "metadata": {
    "papermill": {
     "duration": null,
     "end_time": null,
     "exception": null,
     "start_time": null,
     "status": "pending"
    },
    "tags": []
   },
   "source": [
    "**sales by category**"
   ]
  },
  {
   "cell_type": "code",
   "execution_count": null,
   "id": "16cdc563",
   "metadata": {
    "execution": {
     "iopub.execute_input": "2024-12-30T17:58:22.272590Z",
     "iopub.status.busy": "2024-12-30T17:58:22.272200Z",
     "iopub.status.idle": "2024-12-30T17:58:22.296318Z",
     "shell.execute_reply": "2024-12-30T17:58:22.295100Z",
     "shell.execute_reply.started": "2024-12-30T17:58:22.272561Z"
    },
    "papermill": {
     "duration": null,
     "end_time": null,
     "exception": null,
     "start_time": null,
     "status": "pending"
    },
    "tags": []
   },
   "outputs": [],
   "source": [
    "df.head(2)"
   ]
  },
  {
   "cell_type": "code",
   "execution_count": null,
   "id": "9e4e7f05",
   "metadata": {
    "execution": {
     "iopub.execute_input": "2024-12-30T17:59:37.121377Z",
     "iopub.status.busy": "2024-12-30T17:59:37.120965Z",
     "iopub.status.idle": "2024-12-30T17:59:37.134680Z",
     "shell.execute_reply": "2024-12-30T17:59:37.133238Z",
     "shell.execute_reply.started": "2024-12-30T17:59:37.121348Z"
    },
    "papermill": {
     "duration": null,
     "end_time": null,
     "exception": null,
     "start_time": null,
     "status": "pending"
    },
    "tags": []
   },
   "outputs": [],
   "source": [
    "sales_by_category = df.groupby(\"Category\")[\"Sales\"].sum().reset_index()\n",
    "\n",
    "sales_by_category"
   ]
  },
  {
   "cell_type": "code",
   "execution_count": null,
   "id": "a1996bbc",
   "metadata": {
    "execution": {
     "iopub.execute_input": "2024-12-30T18:13:32.291308Z",
     "iopub.status.busy": "2024-12-30T18:13:32.290923Z",
     "iopub.status.idle": "2024-12-30T18:13:32.343479Z",
     "shell.execute_reply": "2024-12-30T18:13:32.342321Z",
     "shell.execute_reply.started": "2024-12-30T18:13:32.291280Z"
    },
    "papermill": {
     "duration": null,
     "end_time": null,
     "exception": null,
     "start_time": null,
     "status": "pending"
    },
    "tags": []
   },
   "outputs": [],
   "source": [
    "fig2 = px.pie(sales_by_category,\n",
    "              names = \"Category\",\n",
    "              values = \"Sales\",\n",
    "              hole = 0.5,\n",
    "             color_discrete_sequence=px.colors.qualitative.Pastel)\n",
    "\n",
    "fig2.update_traces(textposition=\"inside\",textinfo = \"percent+label\")\n",
    "fig2.update_layout(title_text=\"Sales Analysis by Category\", title_font=dict(size=24))\n",
    "fig2.show()"
   ]
  },
  {
   "cell_type": "markdown",
   "id": "28f68ffb",
   "metadata": {
    "papermill": {
     "duration": null,
     "end_time": null,
     "exception": null,
     "start_time": null,
     "status": "pending"
    },
    "tags": []
   },
   "source": [
    "**The sales analysis needs to be done based on sub-categories**"
   ]
  },
  {
   "cell_type": "markdown",
   "id": "b4c53aa6",
   "metadata": {
    "papermill": {
     "duration": null,
     "end_time": null,
     "exception": null,
     "start_time": null,
     "status": "pending"
    },
    "tags": []
   },
   "source": [
    "**sales by sub-category**"
   ]
  },
  {
   "cell_type": "code",
   "execution_count": null,
   "id": "320ccdf5",
   "metadata": {
    "execution": {
     "iopub.execute_input": "2024-12-30T18:29:00.163426Z",
     "iopub.status.busy": "2024-12-30T18:29:00.163040Z",
     "iopub.status.idle": "2024-12-30T18:29:00.188294Z",
     "shell.execute_reply": "2024-12-30T18:29:00.187110Z",
     "shell.execute_reply.started": "2024-12-30T18:29:00.163399Z"
    },
    "papermill": {
     "duration": null,
     "end_time": null,
     "exception": null,
     "start_time": null,
     "status": "pending"
    },
    "tags": []
   },
   "outputs": [],
   "source": [
    "df.head(2)"
   ]
  },
  {
   "cell_type": "code",
   "execution_count": null,
   "id": "b7613d42",
   "metadata": {
    "execution": {
     "iopub.execute_input": "2024-12-30T18:32:43.301627Z",
     "iopub.status.busy": "2024-12-30T18:32:43.301298Z",
     "iopub.status.idle": "2024-12-30T18:32:43.315135Z",
     "shell.execute_reply": "2024-12-30T18:32:43.313886Z",
     "shell.execute_reply.started": "2024-12-30T18:32:43.301602Z"
    },
    "papermill": {
     "duration": null,
     "end_time": null,
     "exception": null,
     "start_time": null,
     "status": "pending"
    },
    "tags": []
   },
   "outputs": [],
   "source": [
    "sales_by_subcategory=df.groupby(\"Sub-Category\")[\"Sales\"].sum().reset_index()\n",
    "sales_by_subcategory"
   ]
  },
  {
   "cell_type": "code",
   "execution_count": null,
   "id": "94c24cef",
   "metadata": {
    "execution": {
     "iopub.execute_input": "2024-12-30T18:38:55.064756Z",
     "iopub.status.busy": "2024-12-30T18:38:55.064376Z",
     "iopub.status.idle": "2024-12-30T18:38:55.114888Z",
     "shell.execute_reply": "2024-12-30T18:38:55.113841Z",
     "shell.execute_reply.started": "2024-12-30T18:38:55.064727Z"
    },
    "papermill": {
     "duration": null,
     "end_time": null,
     "exception": null,
     "start_time": null,
     "status": "pending"
    },
    "tags": []
   },
   "outputs": [],
   "source": [
    "fig3 = px.bar(sales_by_subcategory,\n",
    "             x = \"Sub-Category\",\n",
    "             y = \"Sales\",\n",
    "             color_discrete_sequence = px.colors.qualitative.Pastel,\n",
    "             title = \"Sales Analysis By Sub-Category\")\n",
    "fig3.show()"
   ]
  },
  {
   "cell_type": "markdown",
   "id": "79fd5b00",
   "metadata": {
    "papermill": {
     "duration": null,
     "end_time": null,
     "exception": null,
     "start_time": null,
     "status": "pending"
    },
    "tags": []
   },
   "source": [
    " \n",
    "**You need to analyze the monthly profit from sales and determine which month had the highest profit.**\n"
   ]
  },
  {
   "cell_type": "markdown",
   "id": "86c423bf",
   "metadata": {
    "papermill": {
     "duration": null,
     "end_time": null,
     "exception": null,
     "start_time": null,
     "status": "pending"
    },
    "tags": []
   },
   "source": [
    "**profit Analysis By Month**"
   ]
  },
  {
   "cell_type": "code",
   "execution_count": null,
   "id": "199e6539",
   "metadata": {
    "execution": {
     "iopub.execute_input": "2024-12-30T18:42:22.777921Z",
     "iopub.status.busy": "2024-12-30T18:42:22.777573Z",
     "iopub.status.idle": "2024-12-30T18:42:22.801596Z",
     "shell.execute_reply": "2024-12-30T18:42:22.800528Z",
     "shell.execute_reply.started": "2024-12-30T18:42:22.777896Z"
    },
    "papermill": {
     "duration": null,
     "end_time": null,
     "exception": null,
     "start_time": null,
     "status": "pending"
    },
    "tags": []
   },
   "outputs": [],
   "source": [
    "df.head(2)"
   ]
  },
  {
   "cell_type": "code",
   "execution_count": null,
   "id": "1a0098a8",
   "metadata": {
    "execution": {
     "iopub.execute_input": "2024-12-30T18:43:28.687751Z",
     "iopub.status.busy": "2024-12-30T18:43:28.687365Z",
     "iopub.status.idle": "2024-12-30T18:43:28.701913Z",
     "shell.execute_reply": "2024-12-30T18:43:28.700142Z",
     "shell.execute_reply.started": "2024-12-30T18:43:28.687690Z"
    },
    "papermill": {
     "duration": null,
     "end_time": null,
     "exception": null,
     "start_time": null,
     "status": "pending"
    },
    "tags": []
   },
   "outputs": [],
   "source": [
    "monthly_profit = df.groupby(\"Order_month\")[\"Profit\"].sum().reset_index()\n",
    "monthly_profit"
   ]
  },
  {
   "cell_type": "code",
   "execution_count": null,
   "id": "6222fbef",
   "metadata": {
    "execution": {
     "iopub.execute_input": "2024-12-30T18:45:09.288317Z",
     "iopub.status.busy": "2024-12-30T18:45:09.287875Z",
     "iopub.status.idle": "2024-12-30T18:45:09.341713Z",
     "shell.execute_reply": "2024-12-30T18:45:09.340200Z",
     "shell.execute_reply.started": "2024-12-30T18:45:09.288286Z"
    },
    "papermill": {
     "duration": null,
     "end_time": null,
     "exception": null,
     "start_time": null,
     "status": "pending"
    },
    "tags": []
   },
   "outputs": [],
   "source": [
    "fig4 = px.line(monthly_profit,\n",
    "              x = \"Order_month\",\n",
    "              y = \"Profit\",\n",
    "              title = \"Monthly Profit Analysis\")\n",
    "fig4.show()"
   ]
  },
  {
   "cell_type": "markdown",
   "id": "f53df316",
   "metadata": {
    "papermill": {
     "duration": null,
     "end_time": null,
     "exception": null,
     "start_time": null,
     "status": "pending"
    },
    "tags": []
   },
   "source": [
    "** Analyze the profit by category and sub-category**"
   ]
  },
  {
   "cell_type": "markdown",
   "id": "bd548843",
   "metadata": {
    "papermill": {
     "duration": null,
     "end_time": null,
     "exception": null,
     "start_time": null,
     "status": "pending"
    },
    "tags": []
   },
   "source": [
    "**1. profit by Category**"
   ]
  },
  {
   "cell_type": "code",
   "execution_count": null,
   "id": "67794aaf",
   "metadata": {
    "execution": {
     "iopub.execute_input": "2024-12-30T18:50:14.308154Z",
     "iopub.status.busy": "2024-12-30T18:50:14.307660Z",
     "iopub.status.idle": "2024-12-30T18:50:14.336234Z",
     "shell.execute_reply": "2024-12-30T18:50:14.334156Z",
     "shell.execute_reply.started": "2024-12-30T18:50:14.308118Z"
    },
    "papermill": {
     "duration": null,
     "end_time": null,
     "exception": null,
     "start_time": null,
     "status": "pending"
    },
    "tags": []
   },
   "outputs": [],
   "source": [
    "df.head(2)"
   ]
  },
  {
   "cell_type": "code",
   "execution_count": null,
   "id": "b7955c91",
   "metadata": {
    "execution": {
     "iopub.execute_input": "2024-12-30T18:51:13.407793Z",
     "iopub.status.busy": "2024-12-30T18:51:13.407452Z",
     "iopub.status.idle": "2024-12-30T18:51:13.421893Z",
     "shell.execute_reply": "2024-12-30T18:51:13.419449Z",
     "shell.execute_reply.started": "2024-12-30T18:51:13.407761Z"
    },
    "papermill": {
     "duration": null,
     "end_time": null,
     "exception": null,
     "start_time": null,
     "status": "pending"
    },
    "tags": []
   },
   "outputs": [],
   "source": [
    "profit_by_category = df.groupby(\"Category\")[\"Profit\"].sum().reset_index()\n",
    "profit_by_category"
   ]
  },
  {
   "cell_type": "code",
   "execution_count": null,
   "id": "00670dc9",
   "metadata": {
    "execution": {
     "iopub.execute_input": "2024-12-30T19:00:54.506724Z",
     "iopub.status.busy": "2024-12-30T19:00:54.506340Z",
     "iopub.status.idle": "2024-12-30T19:00:54.553950Z",
     "shell.execute_reply": "2024-12-30T19:00:54.552784Z",
     "shell.execute_reply.started": "2024-12-30T19:00:54.506696Z"
    },
    "papermill": {
     "duration": null,
     "end_time": null,
     "exception": null,
     "start_time": null,
     "status": "pending"
    },
    "tags": []
   },
   "outputs": [],
   "source": [
    "fig5 = px.pie(profit_by_category,\n",
    "             names = \"Category\",\n",
    "             values = \"Profit\",\n",
    "             hole = 0.5,\n",
    "             color_discrete_sequence = px.colors.qualitative.Pastel,\n",
    "              title = \"Profit Analysis by Category\"\n",
    "             )\n",
    "\n",
    "fig5.update_traces(textposition = \"inside\",textinfo = \"percent+label\")\n",
    "fig5.update_layout(title_text = \"Profit Analysis by Category\",title_font = dict(size=25))\n",
    "fig5.show()"
   ]
  },
  {
   "cell_type": "markdown",
   "id": "98b8c158",
   "metadata": {
    "papermill": {
     "duration": null,
     "end_time": null,
     "exception": null,
     "start_time": null,
     "status": "pending"
    },
    "tags": []
   },
   "source": [
    "**profit analysis by sub-category**"
   ]
  },
  {
   "cell_type": "code",
   "execution_count": null,
   "id": "09400251",
   "metadata": {
    "execution": {
     "iopub.execute_input": "2024-12-30T19:02:28.968681Z",
     "iopub.status.busy": "2024-12-30T19:02:28.968303Z",
     "iopub.status.idle": "2024-12-30T19:02:28.994444Z",
     "shell.execute_reply": "2024-12-30T19:02:28.992929Z",
     "shell.execute_reply.started": "2024-12-30T19:02:28.968654Z"
    },
    "papermill": {
     "duration": null,
     "end_time": null,
     "exception": null,
     "start_time": null,
     "status": "pending"
    },
    "tags": []
   },
   "outputs": [],
   "source": [
    "df.head(2)"
   ]
  },
  {
   "cell_type": "code",
   "execution_count": null,
   "id": "405d5a5b",
   "metadata": {
    "execution": {
     "iopub.execute_input": "2024-12-30T19:03:26.388133Z",
     "iopub.status.busy": "2024-12-30T19:03:26.387740Z",
     "iopub.status.idle": "2024-12-30T19:03:26.400692Z",
     "shell.execute_reply": "2024-12-30T19:03:26.399767Z",
     "shell.execute_reply.started": "2024-12-30T19:03:26.388095Z"
    },
    "papermill": {
     "duration": null,
     "end_time": null,
     "exception": null,
     "start_time": null,
     "status": "pending"
    },
    "tags": []
   },
   "outputs": [],
   "source": [
    "profit_analysis_by_subcategory = df.groupby(\"Sub-Category\")[\"Profit\"].sum().reset_index()\n",
    "profit_analysis_by_subcategory"
   ]
  },
  {
   "cell_type": "code",
   "execution_count": null,
   "id": "57a7545b",
   "metadata": {
    "execution": {
     "iopub.execute_input": "2024-12-30T19:06:11.676726Z",
     "iopub.status.busy": "2024-12-30T19:06:11.676312Z",
     "iopub.status.idle": "2024-12-30T19:06:11.733739Z",
     "shell.execute_reply": "2024-12-30T19:06:11.732607Z",
     "shell.execute_reply.started": "2024-12-30T19:06:11.676692Z"
    },
    "papermill": {
     "duration": null,
     "end_time": null,
     "exception": null,
     "start_time": null,
     "status": "pending"
    },
    "tags": []
   },
   "outputs": [],
   "source": [
    "fig6 = px.bar(profit_analysis_by_subcategory,\n",
    "             x = \"Sub-Category\",\n",
    "             y = \"Profit\",\n",
    "             title = \"Profit Analysis By Sub-Category\",\n",
    "             color_discrete_sequence = px.colors.qualitative.Pastel)\n",
    "fig6.show()"
   ]
  },
  {
   "cell_type": "markdown",
   "id": "ad7580da",
   "metadata": {
    "papermill": {
     "duration": null,
     "end_time": null,
     "exception": null,
     "start_time": null,
     "status": "pending"
    },
    "tags": []
   },
   "source": [
    "**Analyze the sales and profit by customer segment**"
   ]
  },
  {
   "cell_type": "markdown",
   "id": "42223a81",
   "metadata": {
    "papermill": {
     "duration": null,
     "end_time": null,
     "exception": null,
     "start_time": null,
     "status": "pending"
    },
    "tags": []
   },
   "source": [
    "**Sales & Profit by customer Segment**"
   ]
  },
  {
   "cell_type": "code",
   "execution_count": null,
   "id": "2e5fbba7",
   "metadata": {
    "execution": {
     "iopub.execute_input": "2024-12-30T19:12:30.573889Z",
     "iopub.status.busy": "2024-12-30T19:12:30.573518Z",
     "iopub.status.idle": "2024-12-30T19:12:30.596605Z",
     "shell.execute_reply": "2024-12-30T19:12:30.595656Z",
     "shell.execute_reply.started": "2024-12-30T19:12:30.573848Z"
    },
    "papermill": {
     "duration": null,
     "end_time": null,
     "exception": null,
     "start_time": null,
     "status": "pending"
    },
    "tags": []
   },
   "outputs": [],
   "source": [
    "df.head(2)"
   ]
  },
  {
   "cell_type": "code",
   "execution_count": null,
   "id": "628f7943",
   "metadata": {
    "execution": {
     "iopub.execute_input": "2024-12-30T19:14:50.434476Z",
     "iopub.status.busy": "2024-12-30T19:14:50.434054Z",
     "iopub.status.idle": "2024-12-30T19:14:50.451207Z",
     "shell.execute_reply": "2024-12-30T19:14:50.449729Z",
     "shell.execute_reply.started": "2024-12-30T19:14:50.434441Z"
    },
    "papermill": {
     "duration": null,
     "end_time": null,
     "exception": null,
     "start_time": null,
     "status": "pending"
    },
    "tags": []
   },
   "outputs": [],
   "source": [
    "Sales_Profit_By_Segment = df.groupby(\"Segment\").agg({\"Sales\":\"sum\",\"Profit\":\"sum\"}).reset_index()\n",
    "Sales_Profit_By_Segment"
   ]
  },
  {
   "cell_type": "code",
   "execution_count": null,
   "id": "63ef94a1",
   "metadata": {
    "execution": {
     "iopub.execute_input": "2024-12-30T19:28:15.874369Z",
     "iopub.status.busy": "2024-12-30T19:28:15.873957Z",
     "iopub.status.idle": "2024-12-30T19:28:15.895065Z",
     "shell.execute_reply": "2024-12-30T19:28:15.893908Z",
     "shell.execute_reply.started": "2024-12-30T19:28:15.874341Z"
    },
    "papermill": {
     "duration": null,
     "end_time": null,
     "exception": null,
     "start_time": null,
     "status": "pending"
    },
    "tags": []
   },
   "outputs": [],
   "source": [
    "Sales_Profit_By_Segment = df.groupby(\"Segment\").agg({\"Sales\":\"sum\",\"Profit\":\"sum\"}).reset_index()\n",
    "\n",
    "color_palette = colors.qualitative.Pastel\n",
    "\n",
    "fig7 = go.Figure()\n",
    "fig7.add_trace(go.Bar(x = Sales_Profit_By_Segment[\"Segment\"],\n",
    "                     y = Sales_Profit_By_Segment[\"Sales\"],\n",
    "                     name = \"Sales\",\n",
    "                     marker_color=color_palette[0]))\n",
    "fig7.add_trace(go.Bar(x = Sales_Profit_By_Segment[\"Segment\"],\n",
    "                     y = Sales_Profit_By_Segment[\"Profit\"],\n",
    "                     name = \"Profit\",\n",
    "                     marker_color=color_palette[1]))\n",
    "\n",
    "fig7.update_layout(title = \"Sales And Profit Analysis BY Segment\", xaxis_title = \"Segment\", yaxis_title = \"Amount\")\n",
    "\n",
    "\n",
    "fig7.show()"
   ]
  },
  {
   "cell_type": "markdown",
   "id": "638bf841",
   "metadata": {
    "papermill": {
     "duration": null,
     "end_time": null,
     "exception": null,
     "start_time": null,
     "status": "pending"
    },
    "tags": []
   },
   "source": [
    "**Analyze the sales to profit ratio**"
   ]
  },
  {
   "cell_type": "markdown",
   "id": "9a2fe142",
   "metadata": {
    "papermill": {
     "duration": null,
     "end_time": null,
     "exception": null,
     "start_time": null,
     "status": "pending"
    },
    "tags": []
   },
   "source": [
    "# sales to Profit Ratio"
   ]
  },
  {
   "cell_type": "code",
   "execution_count": null,
   "id": "c839ce30",
   "metadata": {
    "execution": {
     "iopub.execute_input": "2024-12-30T19:37:35.673456Z",
     "iopub.status.busy": "2024-12-30T19:37:35.673136Z",
     "iopub.status.idle": "2024-12-30T19:37:35.687463Z",
     "shell.execute_reply": "2024-12-30T19:37:35.686359Z",
     "shell.execute_reply.started": "2024-12-30T19:37:35.673434Z"
    },
    "papermill": {
     "duration": null,
     "end_time": null,
     "exception": null,
     "start_time": null,
     "status": "pending"
    },
    "tags": []
   },
   "outputs": [],
   "source": [
    "Sales_Profit_By_Segment = df.groupby(\"Segment\").agg({\"Sales\":\"sum\",\"Profit\":\"sum\"}).reset_index()\n",
    "Sales_Profit_By_Segment[\"Sales_to_Profit_Ratio\"]= Sales_Profit_By_Segment[\"Sales\"]/Sales_Profit_By_Segment[\"Profit\"]\n",
    "print(Sales_Profit_By_Segment[[\"Segment\", \"Sales_to_Profit_Ratio\"]])\n"
   ]
  }
 ],
 "metadata": {
  "kaggle": {
   "accelerator": "none",
   "dataSources": [
    {
     "datasetId": 6400439,
     "sourceId": 10336417,
     "sourceType": "datasetVersion"
    }
   ],
   "dockerImageVersionId": 30822,
   "isGpuEnabled": false,
   "isInternetEnabled": true,
   "language": "python",
   "sourceType": "notebook"
  },
  "kernelspec": {
   "display_name": "Python 3",
   "language": "python",
   "name": "python3"
  },
  "language_info": {
   "codemirror_mode": {
    "name": "ipython",
    "version": 3
   },
   "file_extension": ".py",
   "mimetype": "text/x-python",
   "name": "python",
   "nbconvert_exporter": "python",
   "pygments_lexer": "ipython3",
   "version": "3.10.12"
  },
  "papermill": {
   "default_parameters": {},
   "duration": 5.490113,
   "end_time": "2024-12-30T19:54:08.021455",
   "environment_variables": {},
   "exception": true,
   "input_path": "__notebook__.ipynb",
   "output_path": "__notebook__.ipynb",
   "parameters": {},
   "start_time": "2024-12-30T19:54:02.531342",
   "version": "2.6.0"
  }
 },
 "nbformat": 4,
 "nbformat_minor": 5
}
